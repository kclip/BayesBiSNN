{
 "cells": [
  {
   "cell_type": "code",
   "execution_count": 10,
   "metadata": {},
   "outputs": [
    {
     "data": {
      "text/html": [
       "<style>.container { width:100% !important; }</style>"
      ],
      "text/plain": [
       "<IPython.core.display.HTML object>"
      ]
     },
     "metadata": {},
     "output_type": "display_data"
    }
   ],
   "source": [
    "from IPython.core.display import display, HTML\n",
    "display(HTML(\"<style>.container { width:100% !important; }</style>\"))\n",
    "import torch\n",
    "import torch.nn.functional as F\n",
    "import numpy as np\n",
    "from torch.nn.parameter import Parameter\n",
    "import matplotlib.pyplot as plt\n",
    "from time import time\n",
    "import scipy.io as sio\n",
    "import tables\n",
    "import os\n",
    "from torch import autograd\n",
    "from time import time\n",
    "from collections import Counter\n",
    "import math\n",
    "import timeit\n",
    "import os\n",
    "import struct\n",
    "import glob\n",
    "import re\n",
    "from scipy.fftpack import fft\n",
    "import seaborn as sns\n",
    "import pandas as pd\n",
    "import sys\n",
    "import scipy\n",
    "import pickle\n",
    "import tracemalloc\n",
    "from scipy import signal\n",
    "from copy import deepcopy\n",
    "from pytorch_memlab import MemReporter\n",
    "import pyldpc\n",
    "from sklearn import datasets\n",
    "import bisect\n",
    "import torch\n",
    "from utils.loss import DECOLLELoss, one_hot_crossentropy\n",
    "from model.LIF_MLP import LIFMLP\n",
    "from tqdm import tqdm\n",
    "from optimizer.BBSNN import BayesBiSNNRP\n",
    "from copy import deepcopy\n",
    "import os\n",
    "import argparse\n",
    "import numpy as np\n",
    "from data_preprocessing.load_data import get_batch_example\n",
    "from collections import Counter\n",
    "import pickle\n",
    "import fnmatch\n",
    "import time\n",
    "from utils.misc import make_moon_dataset_bin, make_moon_dataset_bin_pop_coding, make_moon_test_dataset_bin_pop_coding"
   ]
  },
  {
   "cell_type": "code",
   "execution_count": 11,
   "metadata": {},
   "outputs": [
    {
     "data": {
      "text/plain": [
       "<All keys matched successfully>"
      ]
     },
     "execution_count": 11,
     "metadata": {},
     "output_type": "execute_result"
    }
   ],
   "source": [
    "res = r\"C:\\Users\\K1804053\\OneDrive - King's College London\\PycharmProjects\\results\\011__28-10-2020_mnist_dvs_bbsnnrp_3000_epochs_temp_1.000000_prior_0.500000\"\n",
    "\n",
    "binary_model = LIFMLP([20],\n",
    "                      2,\n",
    "                      n_neurons=[64, 64],\n",
    "                      with_output_layer=False,\n",
    "                      with_bias=False,\n",
    "                      )\n",
    "binary_model.load_state_dict(torch.load(res + '/binary_model_weights.pt'))"
   ]
  },
  {
   "cell_type": "code",
   "execution_count": 37,
   "metadata": {},
   "outputs": [
    {
     "data": {
      "text/plain": [
       "(array([2317.,   33.,   16.,   30.,   29.,   28.,   31.,   32.,   38.,\n",
       "        2822.]),\n",
       " array([-1. , -0.8, -0.6, -0.4, -0.2,  0. ,  0.2,  0.4,  0.6,  0.8,  1. ],\n",
       "       dtype=float32),\n",
       " <a list of 10 Patch objects>)"
      ]
     },
     "execution_count": 37,
     "metadata": {},
     "output_type": "execute_result"
    },
    {
     "data": {
      "image/png": "[encoded data removed]",
      "text/plain": [
       "<Figure size 432x288 with 1 Axes>"
      ]
     },
     "metadata": {
      "needs_background": "light"
     },
     "output_type": "display_data"
    }
   ],
   "source": [
    "plt.hist(torch.cat([w.data.flatten() for w in binary_model.parameters() if w.requires_grad]).numpy())"
   ]
  },
  {
   "cell_type": "code",
   "execution_count": 38,
   "metadata": {},
   "outputs": [
    {
     "data": {
      "text/plain": [
       "(array([2317.,   33.,   16.,   30.,   29.,   28.,   31.,   32.,   38.,\n",
       "        2822.]),\n",
       " array([-1. , -0.8, -0.6, -0.4, -0.2,  0. ,  0.2,  0.4,  0.6,  0.8,  1. ],\n",
       "       dtype=float32),\n",
       " <a list of 10 Patch objects>)"
      ]
     },
     "execution_count": 38,
     "metadata": {},
     "output_type": "execute_result"
    },
    {
     "data": {
      "image/png": "[encoded data removed]",
      "text/plain": [
       "<Figure size 432x288 with 1 Axes>"
      ]
     },
     "metadata": {
      "needs_background": "light"
     },
     "output_type": "display_data"
    }
   ],
   "source": [
    "res = r\"C:\\Users\\K1804053\\OneDrive - King's College London\\PycharmProjects\\results\\012__28-10-2020_mnist_dvs_bbsnnrp_3000_epochs_temp_0.100000_prior_0.500000\"\n",
    "\n",
    "binary_model = LIFMLP([20],\n",
    "                      2,\n",
    "                      n_neurons=[64, 64],\n",
    "                      with_output_layer=False,\n",
    "                      with_bias=False,\n",
    "                      )\n",
    "binary_model.load_state_dict(torch.load(res + '/binary_model_weights.pt'))\n",
    "\n",
    "plt.hist(torch.cat([w.data.flatten() for w in binary_model.parameters() if w.requires_grad]).numpy())"
   ]
  },
  {
   "cell_type": "code",
   "execution_count": 39,
   "metadata": {},
   "outputs": [
    {
     "data": {
      "text/plain": [
       "(array([2.664e+03, 2.000e+00, 1.000e+00, 3.000e+00, 1.000e+00, 3.000e+00,\n",
       "        1.000e+00, 3.000e+00, 4.000e+00, 2.694e+03]),\n",
       " array([-1. , -0.8, -0.6, -0.4, -0.2,  0. ,  0.2,  0.4,  0.6,  0.8,  1. ],\n",
       "       dtype=float32),\n",
       " <a list of 10 Patch objects>)"
      ]
     },
     "execution_count": 39,
     "metadata": {},
     "output_type": "execute_result"
    },
    {
     "data": {
      "image/png": "[encoded data removed]",
      "text/plain": [
       "<Figure size 432x288 with 1 Axes>"
      ]
     },
     "metadata": {
      "needs_background": "light"
     },
     "output_type": "display_data"
    }
   ],
   "source": [
    "res = r\"C:\\Users\\K1804053\\OneDrive - King's College London\\PycharmProjects\\results\\013__28-10-2020_mnist_dvs_bbsnnrp_3000_epochs_temp_0.010000_prior_0.500000\"\n",
    "\n",
    "binary_model = LIFMLP([20],\n",
    "                      2,\n",
    "                      n_neurons=[64, 64],\n",
    "                      with_output_layer=False,\n",
    "                      with_bias=False,\n",
    "                      )\n",
    "binary_model.load_state_dict(torch.load(res + '/binary_model_weights.pt'))\n",
    "weights_flat = torch.cat([w.data.flatten() for w in binary_model.parameters() if w.requires_grad]).numpy()\n",
    "\n",
    "plt.hist(weights_flat)"
   ]
  },
  {
   "cell_type": "code",
   "execution_count": 26,
   "metadata": {},
   "outputs": [
    {
     "data": {
      "text/plain": [
       "(array([2600,    2,    4, ...,    1,    2, 2698], dtype=int64),\n",
       " array([-1.   , -0.999, -0.998, ...,  0.998,  0.999,  1.   ]))"
      ]
     },
     "execution_count": 26,
     "metadata": {},
     "output_type": "execute_result"
    }
   ],
   "source": [
    "hist, edges"
   ]
  },
  {
   "cell_type": "code",
   "execution_count": 41,
   "metadata": {},
   "outputs": [],
   "source": [
    "from sklearn.manifold import TSNE\n",
    "from data_preprocessing.load_data import get_batch_example"
   ]
  },
  {
   "cell_type": "code",
   "execution_count": 60,
   "metadata": {},
   "outputs": [],
   "source": [
    "dataset = tables.open_file(r\"C:\\Users\\K1804053\\OneDrive - King's College London\\PycharmProjects\\datasets\\mnist-dvs\\mnist_dvs_events.hdf5\")\n",
    "train_data = dataset.root.train\n",
    "batch_size = 64\n",
    "idxs = np.random.choice(np.arange(9000), [batch_size])\n",
    "dt = 5000  # us\n",
    "sample_length = 2000  # length of samples during training in ms\n",
    "T = int(sample_length * 1000 / dt)  # number of timesteps in a sample\n",
    "input_size = [676 * 2]\n",
    "n_classes = 10\n",
    "inputs, labels = get_batch_example(train_data, idxs, batch_size, T, n_classes, input_size, dt, 26, True)"
   ]
  },
  {
   "cell_type": "code",
   "execution_count": 61,
   "metadata": {},
   "outputs": [],
   "source": [
    "inputs_ = torch.sum(inputs, dim=1).numpy()\n",
    "labels_ = torch.sum(labels, dim=-1).numpy()"
   ]
  },
  {
   "cell_type": "code",
   "execution_count": 62,
   "metadata": {},
   "outputs": [],
   "source": [
    "tsne = TSNE()\n",
    "test = tsne.fit_transform(inputs_, labels_)"
   ]
  },
  {
   "cell_type": "code",
   "execution_count": 64,
   "metadata": {},
   "outputs": [
    {
     "data": {
      "text/plain": [
       "<matplotlib.collections.PathCollection at 0x17a3b0772e8>"
      ]
     },
     "execution_count": 64,
     "metadata": {},
     "output_type": "execute_result"
    },
    {
     "data": {
      "image/png": "[encoded data removed]",
      "text/plain": [
       "<Figure size 432x288 with 1 Axes>"
      ]
     },
     "metadata": {
      "needs_background": "light"
     },
     "output_type": "display_data"
    }
   ],
   "source": [
    "plt.scatter(test[:, 0], test[:, 1])"
   ]
  },
  {
   "cell_type": "code",
   "execution_count": null,
   "metadata": {},
   "outputs": [],
   "source": []
  }
 ],
 "metadata": {
  "kernelspec": {
   "display_name": "Python 3",
   "language": "python",
   "name": "python3"
  },
  "language_info": {
   "codemirror_mode": {
    "name": "ipython",
    "version": 3
   },
   "file_extension": ".py",
   "mimetype": "text/x-python",
   "name": "python",
   "nbconvert_exporter": "python",
   "pygments_lexer": "ipython3",
   "version": "3.6.10"
  }
 },
 "nbformat": 4,
 "nbformat_minor": 4
}
